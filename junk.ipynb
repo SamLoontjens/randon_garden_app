{
 "cells": [
  {
   "cell_type": "code",
   "execution_count": 2,
   "metadata": {},
   "outputs": [
    {
     "name": "stdout",
     "output_type": "stream",
     "text": [
      "Collecting git+https://github.com/SamLoontjens/random_garden.git\n",
      "  Cloning https://github.com/SamLoontjens/random_garden.git to c:\\users\\sloon\\appdata\\local\\temp\\pip-req-build-483igp8c\n",
      "  Resolved https://github.com/SamLoontjens/random_garden.git to commit 7175da416b7c1e058dc3a9462816b2470f7d40a5\n",
      "  Preparing metadata (setup.py): started\n",
      "  Preparing metadata (setup.py): finished with status 'done'\n",
      "Building wheels for collected packages: random-garden\n",
      "  Building wheel for random-garden (setup.py): started\n",
      "  Building wheel for random-garden (setup.py): finished with status 'done'\n",
      "  Created wheel for random-garden: filename=random_garden-0.1-py3-none-any.whl size=46790 sha256=5612d3a605ba0761430bf4edb8baa3956cd8fadaa92a7254069e95d23d147025\n",
      "  Stored in directory: C:\\Users\\sloon\\AppData\\Local\\Temp\\pip-ephem-wheel-cache-beajkxun\\wheels\\71\\2f\\c4\\f18a46ceaa55d45f87766ca2be0f6ea5f2475ae6a892d3dddf\n",
      "Successfully built random-garden\n",
      "Installing collected packages: random-garden\n",
      "  Attempting uninstall: random-garden\n",
      "    Found existing installation: random-garden 0.1\n",
      "    Uninstalling random-garden-0.1:\n",
      "      Successfully uninstalled random-garden-0.1\n",
      "Successfully installed random-garden-0.1\n",
      "Note: you may need to restart the kernel to use updated packages.\n"
     ]
    },
    {
     "name": "stderr",
     "output_type": "stream",
     "text": [
      "  Running command git clone --filter=blob:none --quiet https://github.com/SamLoontjens/random_garden.git 'C:\\Users\\sloon\\AppData\\Local\\Temp\\pip-req-build-483igp8c'\n"
     ]
    }
   ],
   "source": [
    "pip install --upgrade --force-reinstall git+https://github.com/SamLoontjens/random_garden.git"
   ]
  }
 ],
 "metadata": {
  "kernelspec": {
   "display_name": "base",
   "language": "python",
   "name": "python3"
  },
  "language_info": {
   "codemirror_mode": {
    "name": "ipython",
    "version": 3
   },
   "file_extension": ".py",
   "mimetype": "text/x-python",
   "name": "python",
   "nbconvert_exporter": "python",
   "pygments_lexer": "ipython3",
   "version": "3.11.5"
  }
 },
 "nbformat": 4,
 "nbformat_minor": 2
}
