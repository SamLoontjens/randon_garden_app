{
 "cells": [
  {
   "cell_type": "code",
   "execution_count": 2,
   "metadata": {},
   "outputs": [
    {
     "name": "stdout",
     "output_type": "stream",
     "text": [
      "^C\n",
      "Note: you may need to restart the kernel to use updated packages.\n"
     ]
    }
   ],
   "source": [
    "pip uninstall random_garden"
   ]
  },
  {
   "cell_type": "code",
   "execution_count": 4,
   "metadata": {},
   "outputs": [
    {
     "name": "stdout",
     "output_type": "stream",
     "text": [
      "Collecting git+https://github.com/SamLoontjens/random_garden.git\n",
      "  Cloning https://github.com/SamLoontjens/random_garden.git to c:\\users\\sloon\\appdata\\local\\temp\\pip-req-build-sdxegeea\n",
      "  Resolved https://github.com/SamLoontjens/random_garden.git to commit 877f2881d3062bd1208f64bc7086bebc8d43c2f4\n",
      "  Preparing metadata (setup.py): started\n",
      "  Preparing metadata (setup.py): finished with status 'done'\n",
      "Building wheels for collected packages: random-garden\n",
      "  Building wheel for random-garden (setup.py): started\n",
      "  Building wheel for random-garden (setup.py): finished with status 'done'\n",
      "  Created wheel for random-garden: filename=random_garden-0.1-py3-none-any.whl size=17739 sha256=22d7d2bcf512894d9737bba66b1318aa759bf0a4e330c234227a7a2d28ed7edc\n",
      "  Stored in directory: C:\\Users\\sloon\\AppData\\Local\\Temp\\pip-ephem-wheel-cache-2d7ru39b\\wheels\\71\\2f\\c4\\f18a46ceaa55d45f87766ca2be0f6ea5f2475ae6a892d3dddf\n",
      "Successfully built random-garden\n",
      "Installing collected packages: random-garden\n",
      "  Attempting uninstall: random-garden\n",
      "    Found existing installation: random-garden 0.1\n",
      "    Uninstalling random-garden-0.1:\n",
      "      Successfully uninstalled random-garden-0.1\n",
      "Successfully installed random-garden-0.1\n",
      "Note: you may need to restart the kernel to use updated packages.\n"
     ]
    },
    {
     "name": "stderr",
     "output_type": "stream",
     "text": [
      "  Running command git clone --filter=blob:none --quiet https://github.com/SamLoontjens/random_garden.git 'C:\\Users\\sloon\\AppData\\Local\\Temp\\pip-req-build-sdxegeea'\n"
     ]
    }
   ],
   "source": [
    "pip install --upgrade --force-reinstall git+https://github.com/SamLoontjens/random_garden.git"
   ]
  }
 ],
 "metadata": {
  "kernelspec": {
   "display_name": "base",
   "language": "python",
   "name": "python3"
  },
  "language_info": {
   "codemirror_mode": {
    "name": "ipython",
    "version": 3
   },
   "file_extension": ".py",
   "mimetype": "text/x-python",
   "name": "python",
   "nbconvert_exporter": "python",
   "pygments_lexer": "ipython3",
   "version": "3.11.5"
  }
 },
 "nbformat": 4,
 "nbformat_minor": 2
}
